{
 "cells": [
  {
   "cell_type": "code",
   "execution_count": 1,
   "metadata": {},
   "outputs": [
    {
     "name": "stderr",
     "output_type": "stream",
     "text": [
      "\n",
      "[notice] A new release of pip is available: 24.1.1 -> 24.2\n",
      "[notice] To update, run: python.exe -m pip install --upgrade pip\n",
      "\n",
      "[notice] A new release of pip is available: 24.1.1 -> 24.2\n",
      "[notice] To update, run: python.exe -m pip install --upgrade pip\n",
      "  error: subprocess-exited-with-error\n",
      "  \n",
      "  × python setup.py egg_info did not run successfully.\n",
      "  │ exit code: 1\n",
      "  ╰─> [15 lines of output]\n",
      "      The 'sklearn' PyPI package is deprecated, use 'scikit-learn'\n",
      "      rather than 'sklearn' for pip commands.\n",
      "      \n",
      "      Here is how to fix this error in the main use cases:\n",
      "      - use 'pip install scikit-learn' rather than 'pip install sklearn'\n",
      "      - replace 'sklearn' by 'scikit-learn' in your pip requirements files\n",
      "        (requirements.txt, setup.py, setup.cfg, Pipfile, etc ...)\n",
      "      - if the 'sklearn' package is used by one of your dependencies,\n",
      "        it would be great if you take some time to track which package uses\n",
      "        'sklearn' instead of 'scikit-learn' and report it to their issue tracker\n",
      "      - as a last resort, set the environment variable\n",
      "        SKLEARN_ALLOW_DEPRECATED_SKLEARN_PACKAGE_INSTALL=True to avoid this error\n",
      "      \n",
      "      More information is available at\n",
      "      https://github.com/scikit-learn/sklearn-pypi-package\n",
      "      [end of output]\n",
      "  \n",
      "  note: This error originates from a subprocess, and is likely not a problem with pip.\n",
      "error: metadata-generation-failed\n",
      "\n",
      "× Encountered error while generating package metadata.\n",
      "╰─> See above for output.\n",
      "\n",
      "note: This is an issue with the package mentioned above, not pip.\n",
      "hint: See above for details.\n",
      "\n",
      "[notice] A new release of pip is available: 24.1.1 -> 24.2\n",
      "[notice] To update, run: python.exe -m pip install --upgrade pip\n",
      "c:\\Sevann\\UBA\\procesamiento_lenguaje_natural\\venv\\Lib\\site-packages\\tqdm\\auto.py:21: TqdmWarning: IProgress not found. Please update jupyter and ipywidgets. See https://ipywidgets.readthedocs.io/en/stable/user_install.html\n",
      "  from .autonotebook import tqdm as notebook_tqdm\n"
     ]
    },
    {
     "name": "stdout",
     "output_type": "stream",
     "text": [
      "WARNING:tensorflow:From c:\\Sevann\\UBA\\procesamiento_lenguaje_natural\\venv\\Lib\\site-packages\\tf_keras\\src\\losses.py:2976: The name tf.losses.sparse_softmax_cross_entropy is deprecated. Please use tf.compat.v1.losses.sparse_softmax_cross_entropy instead.\n",
      "\n"
     ]
    }
   ],
   "source": [
    "!pip install transformers --quiet\n",
    "!pip install seaborn --quiet\n",
    "!pip install sklearn --quiet\n",
    "\n",
    "import tensorflow as tf\n",
    "from transformers import TFBertModel, BertTokenizer\n",
    "import pandas as pd\n",
    "import seaborn as sns\n",
    "import matplotlib.pyplot as plt\n",
    "import numpy as np\n",
    "from sklearn.model_selection import train_test_split\n",
    "from sklearn.metrics import classification_report"
   ]
  },
  {
   "cell_type": "code",
   "execution_count": 2,
   "metadata": {},
   "outputs": [
    {
     "name": "stdout",
     "output_type": "stream",
     "text": [
      "WARNING:tensorflow:From c:\\Sevann\\UBA\\procesamiento_lenguaje_natural\\venv\\Lib\\site-packages\\tf_keras\\src\\backend.py:873: The name tf.get_default_graph is deprecated. Please use tf.compat.v1.get_default_graph instead.\n",
      "\n"
     ]
    },
    {
     "name": "stderr",
     "output_type": "stream",
     "text": [
      "Some weights of the PyTorch model were not used when initializing the TF 2.0 model TFBertModel: ['cls.predictions.transform.dense.bias', 'cls.predictions.transform.LayerNorm.bias', 'cls.seq_relationship.bias', 'cls.predictions.bias', 'cls.predictions.transform.dense.weight', 'cls.predictions.transform.LayerNorm.weight', 'cls.seq_relationship.weight']\n",
      "- This IS expected if you are initializing TFBertModel from a PyTorch model trained on another task or with another architecture (e.g. initializing a TFBertForSequenceClassification model from a BertForPreTraining model).\n",
      "- This IS NOT expected if you are initializing TFBertModel from a PyTorch model that you expect to be exactly identical (e.g. initializing a TFBertForSequenceClassification model from a BertForSequenceClassification model).\n",
      "All the weights of TFBertModel were initialized from the PyTorch model.\n",
      "If your task is similar to the task the model of the checkpoint was trained on, you can already use TFBertModel for predictions without further training.\n"
     ]
    }
   ],
   "source": [
    "# Cargar el modelo preentrenado de BERT\n",
    "bert_model = TFBertModel.from_pretrained(\"bert-base-uncased\")\n",
    "\n",
    "# Congelar las capas del modelo BERT\n",
    "bert_model.bert.trainable = False\n",
    "\n",
    "# Definir los parámetros de entrada\n",
    "max_length = 140\n",
    "\n",
    "# Crear las capas de entrada\n",
    "input_ids = tf.keras.layers.Input(shape=(max_length,), dtype=tf.int32, name='input_ids')\n",
    "attention_mask = tf.keras.layers.Input(shape=(max_length,), dtype=tf.int32, name='attention_mask')\n",
    "\n",
    "# Obtener la salida del modelo BERT\n",
    "outputs = bert_model(input_ids, attention_mask=attention_mask)\n",
    "pooled_output = outputs.pooler_output"
   ]
  },
  {
   "cell_type": "code",
   "execution_count": 3,
   "metadata": {},
   "outputs": [
    {
     "name": "stdout",
     "output_type": "stream",
     "text": [
      "WARNING:tensorflow:From c:\\Sevann\\UBA\\procesamiento_lenguaje_natural\\venv\\Lib\\site-packages\\tf_keras\\src\\optimizers\\__init__.py:317: The name tf.train.Optimizer is deprecated. Please use tf.compat.v1.train.Optimizer instead.\n",
      "\n",
      "Model: \"model\"\n",
      "__________________________________________________________________________________________________\n",
      " Layer (type)                Output Shape                 Param #   Connected to                  \n",
      "==================================================================================================\n",
      " input_ids (InputLayer)      [(None, 140)]                0         []                            \n",
      "                                                                                                  \n",
      " attention_mask (InputLayer  [(None, 140)]                0         []                            \n",
      " )                                                                                                \n",
      "                                                                                                  \n",
      " tf_bert_model (TFBertModel  TFBaseModelOutputWithPooli   1094822   ['input_ids[0][0]',           \n",
      " )                           ngAndCrossAttentions(last_   40         'attention_mask[0][0]']      \n",
      "                             hidden_state=(None, 140, 7                                           \n",
      "                             68),                                                                 \n",
      "                              pooler_output=(None, 768)                                           \n",
      "                             , past_key_values=None, hi                                           \n",
      "                             dden_states=None, attentio                                           \n",
      "                             ns=None, cross_attentions=                                           \n",
      "                             None)                                                                \n",
      "                                                                                                  \n",
      " dropout_37 (Dropout)        (None, 768)                  0         ['tf_bert_model[0][1]']       \n",
      "                                                                                                  \n",
      " dense (Dense)               (None, 3)                    2307      ['dropout_37[0][0]']          \n",
      "                                                                                                  \n",
      "==================================================================================================\n",
      "Total params: 109484547 (417.65 MB)\n",
      "Trainable params: 2307 (9.01 KB)\n",
      "Non-trainable params: 109482240 (417.64 MB)\n",
      "__________________________________________________________________________________________________\n"
     ]
    }
   ],
   "source": [
    "# Definir la arquitectura de la última parte de la red\n",
    "x = tf.keras.layers.Dropout(0.2)(pooled_output)\n",
    "output_3_classes = tf.keras.layers.Dense(3, activation='softmax')(x)\n",
    "\n",
    "# Definir el modelo final\n",
    "model_3_classes = tf.keras.Model(inputs=[input_ids, attention_mask], outputs=output_3_classes)\n",
    "\n",
    "# Compilar el modelo\n",
    "model_3_classes.compile(optimizer='adam',\n",
    "                        loss='categorical_crossentropy',\n",
    "                        metrics=['accuracy'])\n",
    "\n",
    "# Mostrar el resumen del modelo\n",
    "model_3_classes.summary()"
   ]
  },
  {
   "cell_type": "code",
   "execution_count": 4,
   "metadata": {},
   "outputs": [
    {
     "name": "stdout",
     "output_type": "stream",
     "text": [
      "Cantidad de críticas: 15746\n"
     ]
    },
    {
     "data": {
      "image/png": "[encoded data removed]",
      "text/plain": [
       "<Figure size 640x480 with 1 Axes>"
      ]
     },
     "metadata": {},
     "output_type": "display_data"
    }
   ],
   "source": [
    "# # Descargar los datos\n",
    "# !curl -L -o 'reviews.csv' 'https://drive.google.com/u/0/uc?id=1zdmewp7ayS4js4VtrJEHzAheSW-5NBZv&export=download&confirm=t'\n",
    "\n",
    "# Cargar los datos en un DataFrame\n",
    "df = pd.read_csv('reviews.csv')\n",
    "\n",
    "# Mostrar el número total de críticas\n",
    "print(\"Cantidad de críticas:\", len(df))\n",
    "\n",
    "# Crear una nueva columna 'sentiment' basada en el puntaje para 3 clases\n",
    "df['sentiment_3_classes'] = df.score.apply(lambda x: 0 if x <= 2 else 1 if x == 3 else 2)\n",
    "class_names_3 = ['negative', 'neutral', 'positive']\n",
    "\n",
    "# Mostrar la distribución de clases\n",
    "sns.countplot(x=df.sentiment_3_classes)\n",
    "plt.xlabel('Review Sentiment (3 classes)')\n",
    "plt.show()"
   ]
  },
  {
   "cell_type": "markdown",
   "metadata": {},
   "source": [
    "# 5"
   ]
  },
  {
   "cell_type": "code",
   "execution_count": 6,
   "metadata": {},
   "outputs": [],
   "source": [
    "# Preparar las sentencias y etiquetas\n",
    "sentences = df['content'].values\n",
    "y_3_classes = tf.keras.utils.to_categorical(df['sentiment_3_classes'].values, num_classes=3)\n",
    "\n",
    "# Dividir los datos en entrenamiento, validación y prueba\n",
    "X_train_val, X_test, y_train_val, y_test_3_classes = train_test_split(sentences, y_3_classes, test_size=0.2, random_state=42)\n",
    "X_train, X_val, y_train, y_val = train_test_split(X_train_val, y_train_val, test_size=0.2, random_state=42)\n",
    "\n",
    "# Tokenizar los datos\n",
    "bert_tokenizer = BertTokenizer.from_pretrained(\"bert-base-uncased\")\n",
    "\n",
    "def tokenize(sentences):\n",
    "    return bert_tokenizer(sentences, max_length=max_length, padding=True, truncation=True, return_tensors='tf')\n",
    "\n",
    "X_train = X_train.tolist()\n",
    "X_val = X_val.tolist()\n",
    "X_test = X_test.tolist()\n",
    "\n",
    "X_train_tokens = tokenize(X_train)\n",
    "X_val_tokens = tokenize(X_val)\n",
    "X_test_tokens = tokenize(X_test)"
   ]
  },
  {
   "cell_type": "markdown",
   "metadata": {},
   "source": [
    "6"
   ]
  },
  {
   "cell_type": "code",
   "execution_count": 7,
   "metadata": {},
   "outputs": [
    {
     "name": "stdout",
     "output_type": "stream",
     "text": [
      "Epoch 1/5\n",
      "WARNING:tensorflow:From c:\\Sevann\\UBA\\procesamiento_lenguaje_natural\\venv\\Lib\\site-packages\\tf_keras\\src\\utils\\tf_utils.py:492: The name tf.ragged.RaggedTensorValue is deprecated. Please use tf.compat.v1.ragged.RaggedTensorValue instead.\n",
      "\n",
      "WARNING:tensorflow:From c:\\Sevann\\UBA\\procesamiento_lenguaje_natural\\venv\\Lib\\site-packages\\tf_keras\\src\\engine\\base_layer_utils.py:384: The name tf.executing_eagerly_outside_functions is deprecated. Please use tf.compat.v1.executing_eagerly_outside_functions instead.\n",
      "\n",
      "315/315 [==============================] - 1905s 6s/step - loss: 1.1067 - accuracy: 0.4012 - val_loss: 0.9959 - val_accuracy: 0.5028\n",
      "Epoch 2/5\n",
      "315/315 [==============================] - 2016s 6s/step - loss: 1.0279 - accuracy: 0.4723 - val_loss: 0.9670 - val_accuracy: 0.5385\n",
      "Epoch 3/5\n",
      "315/315 [==============================] - 1677s 5s/step - loss: 0.9932 - accuracy: 0.5047 - val_loss: 0.9698 - val_accuracy: 0.4952\n",
      "Epoch 4/5\n",
      "315/315 [==============================] - 2227s 7s/step - loss: 0.9761 - accuracy: 0.5154 - val_loss: 0.9258 - val_accuracy: 0.5421\n",
      "Epoch 5/5\n",
      "315/315 [==============================] - 2174s 7s/step - loss: 0.9598 - accuracy: 0.5274 - val_loss: 0.9193 - val_accuracy: 0.5639\n",
      "99/99 [==============================] - 492s 5s/step\n",
      "              precision    recall  f1-score   support\n",
      "\n",
      "    negative       0.49      0.81      0.61       997\n",
      "     neutral       0.45      0.26      0.33       979\n",
      "    positive       0.76      0.61      0.67      1174\n",
      "\n",
      "    accuracy                           0.56      3150\n",
      "   macro avg       0.56      0.56      0.54      3150\n",
      "weighted avg       0.58      0.56      0.55      3150\n",
      "\n"
     ]
    }
   ],
   "source": [
    "# Entrenar el modelo\n",
    "history_3_classes = model_3_classes.fit([X_train_tokens['input_ids'], X_train_tokens['attention_mask']],\n",
    "                                        y_train, epochs=5, validation_data=([X_val_tokens['input_ids'],\n",
    "                                                                            X_val_tokens['attention_mask']], y_val))\n",
    "\n",
    "# Evaluar el modelo en el conjunto de prueba\n",
    "y_pred_3_classes = model_3_classes.predict([X_test_tokens['input_ids'], X_test_tokens['attention_mask']])\n",
    "y_pred_3_classes = np.argmax(y_pred_3_classes, axis=1)\n",
    "y_test_3_classes = np.argmax(y_test_3_classes, axis=1)\n",
    "\n",
    "print(classification_report(y_test_3_classes, y_pred_3_classes, target_names=class_names_3))"
   ]
  },
  {
   "cell_type": "markdown",
   "metadata": {},
   "source": [
    "7"
   ]
  },
  {
   "cell_type": "code",
   "execution_count": 9,
   "metadata": {},
   "outputs": [
    {
     "data": {
      "image/png": "[encoded data removed]",
      "text/plain": [
       "<Figure size 640x480 with 1 Axes>"
      ]
     },
     "metadata": {},
     "output_type": "display_data"
    },
    {
     "name": "stdout",
     "output_type": "stream",
     "text": [
      "Model: \"model_1\"\n",
      "__________________________________________________________________________________________________\n",
      " Layer (type)                Output Shape                 Param #   Connected to                  \n",
      "==================================================================================================\n",
      " input_ids (InputLayer)      [(None, 140)]                0         []                            \n",
      "                                                                                                  \n",
      " attention_mask (InputLayer  [(None, 140)]                0         []                            \n",
      " )                                                                                                \n",
      "                                                                                                  \n",
      " tf_bert_model (TFBertModel  TFBaseModelOutputWithPooli   1094822   ['input_ids[0][0]',           \n",
      " )                           ngAndCrossAttentions(last_   40         'attention_mask[0][0]']      \n",
      "                             hidden_state=(None, 140, 7                                           \n",
      "                             68),                                                                 \n",
      "                              pooler_output=(None, 768)                                           \n",
      "                             , past_key_values=None, hi                                           \n",
      "                             dden_states=None, attentio                                           \n",
      "                             ns=None, cross_attentions=                                           \n",
      "                             None)                                                                \n",
      "                                                                                                  \n",
      " dropout_37 (Dropout)        (None, 768)                  0         ['tf_bert_model[0][1]']       \n",
      "                                                                                                  \n",
      " dense_1 (Dense)             (None, 5)                    3845      ['dropout_37[0][0]']          \n",
      "                                                                                                  \n",
      "==================================================================================================\n",
      "Total params: 109486085 (417.66 MB)\n",
      "Trainable params: 3845 (15.02 KB)\n",
      "Non-trainable params: 109482240 (417.64 MB)\n",
      "__________________________________________________________________________________________________\n"
     ]
    }
   ],
   "source": [
    "# Crear una nueva columna 'sentiment' basada en el puntaje para 5 clases\n",
    "df['sentiment_5_classes'] = df.score.apply(lambda x: x - 1)\n",
    "class_names_5 = ['1', '2', '3', '4', '5']\n",
    "\n",
    "# Mostrar la distribución de clases\n",
    "sns.countplot(x=df.sentiment_5_classes)\n",
    "plt.xlabel('Review Sentiment (5 classes)')\n",
    "plt.show()\n",
    "\n",
    "# Preparar las etiquetas para 5 clases\n",
    "y_5_classes = tf.keras.utils.to_categorical(df['sentiment_5_classes'].values, num_classes=5)\n",
    "\n",
    "# Dividir los datos en entrenamiento, validación y prueba\n",
    "X_train_val, X_test, y_train_val, y_test_5_classes = train_test_split(sentences, y_5_classes, test_size=0.2, random_state=42)\n",
    "X_train, X_val, y_train, y_val = train_test_split(X_train_val, y_train_val, test_size=0.2, random_state=42)\n",
    "\n",
    "X_train = [str(x) for x in X_train]\n",
    "X_val = [str(x) for x in X_val]\n",
    "X_test = [str(x) for x in X_test]\n",
    "\n",
    "# Tokenizar los datos\n",
    "X_train_tokens = tokenize(X_train)\n",
    "X_val_tokens = tokenize(X_val)\n",
    "X_test_tokens = tokenize(X_test)\n",
    "\n",
    "# Definir la arquitectura de la última parte de la red para 5 clases\n",
    "output_5_classes = tf.keras.layers.Dense(5, activation='softmax')(x)\n",
    "\n",
    "# Definir el modelo final\n",
    "model_5_classes = tf.keras.Model(inputs=[input_ids, attention_mask], outputs=output_5_classes)\n",
    "\n",
    "# Compilar el modelo\n",
    "model_5_classes.compile(optimizer='adam',\n",
    "                        loss='categorical_crossentropy',\n",
    "                        metrics=['accuracy'])\n",
    "\n",
    "# Mostrar el resumen del modelo\n",
    "model_5_classes.summary()"
   ]
  },
  {
   "cell_type": "markdown",
   "metadata": {},
   "source": [
    "8"
   ]
  },
  {
   "cell_type": "code",
   "execution_count": 10,
   "metadata": {},
   "outputs": [
    {
     "name": "stdout",
     "output_type": "stream",
     "text": [
      "Epoch 1/5\n",
      "315/315 [==============================] - 2542s 8s/step - loss: 1.6136 - accuracy: 0.2921 - val_loss: 1.4856 - val_accuracy: 0.3631\n",
      "Epoch 2/5\n",
      "315/315 [==============================] - 2091s 7s/step - loss: 1.5173 - accuracy: 0.3409 - val_loss: 1.4743 - val_accuracy: 0.3726\n",
      "Epoch 3/5\n",
      "315/315 [==============================] - 2012s 6s/step - loss: 1.4842 - accuracy: 0.3548 - val_loss: 1.4305 - val_accuracy: 0.3909\n",
      "Epoch 4/5\n",
      "315/315 [==============================] - 1976s 6s/step - loss: 1.4467 - accuracy: 0.3729 - val_loss: 1.4199 - val_accuracy: 0.3476\n",
      "Epoch 5/5\n",
      "315/315 [==============================] - 2078s 7s/step - loss: 1.4321 - accuracy: 0.3759 - val_loss: 1.3538 - val_accuracy: 0.4468\n",
      "99/99 [==============================] - 456s 5s/step\n",
      "              precision    recall  f1-score   support\n",
      "\n",
      "           1       0.50      0.31      0.38       515\n",
      "           2       0.50      0.00      0.01       482\n",
      "           3       0.39      0.74      0.51       979\n",
      "           4       0.30      0.11      0.16       591\n",
      "           5       0.51      0.66      0.57       583\n",
      "\n",
      "    accuracy                           0.42      3150\n",
      "   macro avg       0.44      0.36      0.33      3150\n",
      "weighted avg       0.43      0.42      0.36      3150\n",
      "\n"
     ]
    }
   ],
   "source": [
    "# Entrenar el modelo\n",
    "history_5_classes = model_5_classes.fit([X_train_tokens['input_ids'], X_train_tokens['attention_mask']],\n",
    "                                        y_train, epochs=5, validation_data=([X_val_tokens['input_ids'],\n",
    "                                                                            X_val_tokens['attention_mask']], y_val))\n",
    "\n",
    "# Evaluar el modelo en el conjunto de prueba\n",
    "y_pred_5_classes = model_5_classes.predict([X_test_tokens['input_ids'], X_test_tokens['attention_mask']])\n",
    "y_pred_5_classes = np.argmax(y_pred_5_classes, axis=1)\n",
    "y_test_5_classes = np.argmax(y_test_5_classes, axis=1)\n",
    "\n",
    "print(classification_report(y_test_5_classes, y_pred_5_classes, target_names=class_names_5))"
   ]
  },
  {
   "cell_type": "markdown",
   "metadata": {},
   "source": [
    "--"
   ]
  },
  {
   "cell_type": "code",
   "execution_count": 17,
   "metadata": {},
   "outputs": [],
   "source": [
    "def analyze_sentence(text, model_3_classes, model_5_classes, class_names_3, class_names_5):\n",
    "    # Tokenizar la frase\n",
    "    tokens = tokenize([text])\n",
    "    \n",
    "    # Predecir la clase para la frase con el modelo de 3 clases\n",
    "    prediction_3_classes = model_3_classes.predict([tokens['input_ids'], tokens['attention_mask']])\n",
    "    predicted_class_3 = np.argmax(prediction_3_classes, axis=1)[0]\n",
    "    \n",
    "    # Predecir la clase para la frase con el modelo de 5 clases\n",
    "    prediction_5_classes = model_5_classes.predict([tokens['input_ids'], tokens['attention_mask']])\n",
    "    predicted_class_5 = np.argmax(prediction_5_classes, axis=1)[0]\n",
    "    \n",
    "    # Obtener las etiquetas de las clases predichas\n",
    "    pred_class_3 = class_names_3[predicted_class_3]\n",
    "    pred_class_5 = class_names_5[predicted_class_5]\n",
    "    \n",
    "    print(f\"Frase: {text}\")\n",
    "    print(f\"Predicción (3 clases): {pred_class_3}\")\n",
    "    print(f\"Predicción (5 clases): {pred_class_5}\")\n",
    "    print()\n",
    "    \n",
    "    return pred_class_3, pred_class_5"
   ]
  },
  {
   "cell_type": "code",
   "execution_count": 18,
   "metadata": {},
   "outputs": [
    {
     "name": "stdout",
     "output_type": "stream",
     "text": [
      "1/1 [==============================] - 0s 95ms/step\n",
      "1/1 [==============================] - 0s 80ms/step\n",
      "Frase: This app is amazing, I use it every day!\n",
      "Predicción (3 clases): positive\n",
      "Predicción (5 clases): 5\n",
      "\n",
      "1/1 [==============================] - 0s 77ms/step\n",
      "1/1 [==============================] - 0s 88ms/step\n",
      "Frase: Terrible experience, the app crashes all the time.\n",
      "Predicción (3 clases): negative\n",
      "Predicción (5 clases): 1\n",
      "\n",
      "1/1 [==============================] - 0s 83ms/step\n",
      "1/1 [==============================] - 0s 81ms/step\n",
      "Frase: It's a decent app, but it has some bugs.\n",
      "Predicción (3 clases): negative\n",
      "Predicción (5 clases): 3\n",
      "\n",
      "1/1 [==============================] - 0s 82ms/step\n",
      "1/1 [==============================] - 0s 68ms/step\n",
      "Frase: The app is okay, but there are better alternatives.\n",
      "Predicción (3 clases): negative\n",
      "Predicción (5 clases): 3\n",
      "\n",
      "1/1 [==============================] - 0s 83ms/step\n",
      "1/1 [==============================] - 0s 79ms/step\n",
      "Frase: I hate the new update, it ruined everything.\n",
      "Predicción (3 clases): negative\n",
      "Predicción (5 clases): 5\n",
      "\n",
      "1/1 [==============================] - 0s 79ms/step\n",
      "1/1 [==============================] - 0s 86ms/step\n",
      "Frase: This app works perfectly.\n",
      "Predicción (3 clases): positive\n",
      "Predicción (5 clases): 5\n",
      "\n"
     ]
    }
   ],
   "source": [
    "# Lista de frases para analizar\n",
    "texts = [\n",
    "    \"This app is amazing, I use it every day!\",\n",
    "    \"Terrible experience, the app crashes all the time.\",\n",
    "    \"It's a decent app, but it has some bugs.\",\n",
    "    \"The app is okay, but there are better alternatives.\",\n",
    "    \"I hate the new update, it ruined everything.\",\n",
    "    \"This app works perfectly.\"\n",
    "]\n",
    "\n",
    "# Analizar cada frase\n",
    "for text in texts:\n",
    "    analyze_sentence(text, model_3_classes, model_5_classes, class_names_3, class_names_5)"
   ]
  },
  {
   "cell_type": "code",
   "execution_count": 11,
   "metadata": {},
   "outputs": [
    {
     "name": "stdout",
     "output_type": "stream",
     "text": [
      "1/1 [==============================] - 3s 3s/step\n",
      "1/1 [==============================] - 3s 3s/step\n",
      "Frase: I love this app!\n",
      "Predicción (3 clases): positive\n",
      "Predicción (5 clases): 5\n"
     ]
    }
   ],
   "source": [
    "# Frase de ejemplo\n",
    "text = \"I love this app!\"\n",
    "\n",
    "# Tokenizar la frase\n",
    "tokens = tokenize([text])\n",
    "\n",
    "# Predecir la clase para la frase con el modelo de 3 clases\n",
    "prediction_3_classes = model_3_classes.predict([tokens['input_ids'], tokens['attention_mask']])\n",
    "predicted_class_3 = np.argmax(prediction_3_classes, axis=1)[0]\n",
    "\n",
    "# Predecir la clase para la frase con el modelo de 5 clases\n",
    "prediction_5_classes = model_5_classes.predict([tokens['input_ids'], tokens['attention_mask']])\n",
    "predicted_class_5 = np.argmax(prediction_5_classes, axis=1)[0]\n",
    "\n",
    "# Mapear las predicciones a las etiquetas de las clases\n",
    "print(f\"Frase: {text}\")\n",
    "print(f\"Predicción (3 clases): {class_names_3[predicted_class_3]}\")\n",
    "print(f\"Predicción (5 clases): {class_names_5[predicted_class_5]}\")\n"
   ]
  }
 ],
 "metadata": {
  "kernelspec": {
   "display_name": "venv",
   "language": "python",
   "name": "python3"
  },
  "language_info": {
   "codemirror_mode": {
    "name": "ipython",
    "version": 3
   },
   "file_extension": ".py",
   "mimetype": "text/x-python",
   "name": "python",
   "nbconvert_exporter": "python",
   "pygments_lexer": "ipython3",
   "version": "3.12.3"
  }
 },
 "nbformat": 4,
 "nbformat_minor": 2
}
